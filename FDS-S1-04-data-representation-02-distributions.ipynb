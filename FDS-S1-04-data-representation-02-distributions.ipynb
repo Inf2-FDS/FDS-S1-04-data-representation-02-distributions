{
 "cells": [
  {
   "cell_type": "markdown",
   "metadata": {},
   "source": [
    "# Foundations of Data Science\n",
    "## Week 04: Data representation II: Distributions and Seaborn"
   ]
  },
  {
   "cell_type": "markdown",
   "metadata": {
    "deletable": false,
    "editable": false,
    "tags": []
   },
   "source": [
    "**Learning outcomes:** \n",
    "In this lab you will learn more advanced plotting options using Matplotlib, and Seaborn, a different plotting library based on Matplotlib.  By the end of the lab you should be able to:\n",
    "- represent distributions using Matplotlib,\n",
    "- draw figures with differently sized subplots,\n",
    "- represent multivariate distributions using Seaborn.\n",
    "\n",
    "After examining CO2 emission data and having reached a tentative answer on who is responsible for the current state of CO2 in the atmosphere, we will take the position of a medical researcher, and try to answer the following question:\n",
    "\n",
    "**Research question:** What are the most important factors leading to diabetes?\n",
    "\n",
    "**Data information:** We are using a well-known [UCI](https://www.kaggle.com/uciml/pima-indians-diabetes-database) dataset of female patients over 21 years old and of Pima Indian heritage.\n",
    "\n",
    "**Remarks:**\n",
    "- Remember to think about what you learned in the last lab and the FDS visualisation principles and guidance (in the S1 week 4 folder on Learn):\n",
    "  1. Show the data\n",
    "  2. Make the meaning of the data clear\n",
    "  3. Avoid distorting what the data have to say\n",
    "  4. Make the data accessible\n",
    "  5. Focus on the content\n",
    "- For some exercises you might need to use google or the matplotlib documentation - the [Tutorials](https://matplotlib.org/3.5.2/tutorials/index.html) and [API reference](https://matplotlib.org/3.5.2/api/index.html) are the most useful sections. It is important to get familiar with looking up how to solve problems online. Throughout your career you will encounter many problems that other people have encountered too; there is no need to reinvent the wheel.\n",
    "- We will not provide all the code in the tutorials, but expect you to be able to draw from previous labs to fill in gaps.\n",
    "- Try not to use copy+paste when coding these labs, as typing will help you memorize the code better.\n",
    "- Try to understand each detail in the code we provide, and read the comments!"
   ]
  },
  {
   "cell_type": "code",
   "execution_count": 2,
   "metadata": {
    "deletable": false,
    "editable": false,
    "tags": []
   },
   "outputs": [],
   "source": [
    "import os\n",
    "import matplotlib.pyplot as plt\n",
    "import pandas as pd\n",
    "import numpy as np\n",
    "import seaborn as sns\n",
    "from sklearn import datasets\n",
    "from mpl_toolkits.mplot3d import Axes3D\n",
    "import math\n",
    "# Package to display the hints and soultions\n",
    "from common.show_solutions import show"
   ]
  },
  {
   "cell_type": "markdown",
   "metadata": {},
   "source": [
    "## A Plotting distributions: Histograms and Boxplots"
   ]
  },
  {
   "cell_type": "markdown",
   "metadata": {},
   "source": [
    "In the last lab, we learned to represent data using line plots, bar charts and scatter plots. In this lab, we will focus on representing distributions."
   ]
  },
  {
   "cell_type": "code",
   "execution_count": 3,
   "metadata": {},
   "outputs": [
    {
     "data": {
      "text/html": [
       "<div>\n",
       "<style scoped>\n",
       "    .dataframe tbody tr th:only-of-type {\n",
       "        vertical-align: middle;\n",
       "    }\n",
       "\n",
       "    .dataframe tbody tr th {\n",
       "        vertical-align: top;\n",
       "    }\n",
       "\n",
       "    .dataframe thead th {\n",
       "        text-align: right;\n",
       "    }\n",
       "</style>\n",
       "<table border=\"1\" class=\"dataframe\">\n",
       "  <thead>\n",
       "    <tr style=\"text-align: right;\">\n",
       "      <th></th>\n",
       "      <th>Pregnancies</th>\n",
       "      <th>Glucose</th>\n",
       "      <th>BloodPressure</th>\n",
       "      <th>SkinThickness</th>\n",
       "      <th>Insulin</th>\n",
       "      <th>BMI</th>\n",
       "      <th>DiabetesPedigreeFunction</th>\n",
       "      <th>Age</th>\n",
       "      <th>Outcome</th>\n",
       "    </tr>\n",
       "  </thead>\n",
       "  <tbody>\n",
       "    <tr>\n",
       "      <th>0</th>\n",
       "      <td>6</td>\n",
       "      <td>148</td>\n",
       "      <td>72</td>\n",
       "      <td>35</td>\n",
       "      <td>0</td>\n",
       "      <td>33.6</td>\n",
       "      <td>0.627</td>\n",
       "      <td>50</td>\n",
       "      <td>1</td>\n",
       "    </tr>\n",
       "    <tr>\n",
       "      <th>1</th>\n",
       "      <td>1</td>\n",
       "      <td>85</td>\n",
       "      <td>66</td>\n",
       "      <td>29</td>\n",
       "      <td>0</td>\n",
       "      <td>26.6</td>\n",
       "      <td>0.351</td>\n",
       "      <td>31</td>\n",
       "      <td>0</td>\n",
       "    </tr>\n",
       "    <tr>\n",
       "      <th>2</th>\n",
       "      <td>8</td>\n",
       "      <td>183</td>\n",
       "      <td>64</td>\n",
       "      <td>0</td>\n",
       "      <td>0</td>\n",
       "      <td>23.3</td>\n",
       "      <td>0.672</td>\n",
       "      <td>32</td>\n",
       "      <td>1</td>\n",
       "    </tr>\n",
       "    <tr>\n",
       "      <th>3</th>\n",
       "      <td>1</td>\n",
       "      <td>89</td>\n",
       "      <td>66</td>\n",
       "      <td>23</td>\n",
       "      <td>94</td>\n",
       "      <td>28.1</td>\n",
       "      <td>0.167</td>\n",
       "      <td>21</td>\n",
       "      <td>0</td>\n",
       "    </tr>\n",
       "    <tr>\n",
       "      <th>4</th>\n",
       "      <td>0</td>\n",
       "      <td>137</td>\n",
       "      <td>40</td>\n",
       "      <td>35</td>\n",
       "      <td>168</td>\n",
       "      <td>43.1</td>\n",
       "      <td>2.288</td>\n",
       "      <td>33</td>\n",
       "      <td>1</td>\n",
       "    </tr>\n",
       "  </tbody>\n",
       "</table>\n",
       "</div>"
      ],
      "text/plain": [
       "   Pregnancies  Glucose  BloodPressure  SkinThickness  Insulin   BMI  \\\n",
       "0            6      148             72             35        0  33.6   \n",
       "1            1       85             66             29        0  26.6   \n",
       "2            8      183             64              0        0  23.3   \n",
       "3            1       89             66             23       94  28.1   \n",
       "4            0      137             40             35      168  43.1   \n",
       "\n",
       "   DiabetesPedigreeFunction  Age  Outcome  \n",
       "0                     0.627   50        1  \n",
       "1                     0.351   31        0  \n",
       "2                     0.672   32        1  \n",
       "3                     0.167   21        0  \n",
       "4                     2.288   33        1  "
      ]
     },
     "execution_count": 3,
     "metadata": {},
     "output_type": "execute_result"
    }
   ],
   "source": [
    "diabetes_loc = os.path.join(os.getcwd(), 'datasets', 'diabetes.csv')\n",
    "diabetes = pd.read_csv(diabetes_loc)\n",
    "diabetes.head()"
   ]
  },
  {
   "cell_type": "markdown",
   "metadata": {},
   "source": [
    "The `Outcome` column represents whether or not the patient has diabetes."
   ]
  },
  {
   "cell_type": "markdown",
   "metadata": {},
   "source": [
    "### A.1 HIstograms\n",
    "\n",
    "There are many options to represent distributions. A common choice is the **histogram** `plt.hist(data, bins)`, where `bins` is either an integer representing the number of bins, e.g. 10, or an array of the limits of the bins, e.g. `[0, 10, 20, 30]`. Let's get an idea about whether the dataset is a good representation of the actual population by creating a histogram of the ages of the female patients."
   ]
  },
  {
   "cell_type": "code",
   "execution_count": 4,
   "metadata": {},
   "outputs": [
    {
     "data": {
      "text/plain": [
       "Text(0.5, 1.0, 'Distribution of ages of female patients')"
      ]
     },
     "execution_count": 4,
     "metadata": {},
     "output_type": "execute_result"
    },
    {
     "data": {
      "image/png": "[encoded data removed]",
      "text/plain": [
       "<Figure size 640x480 with 1 Axes>"
      ]
     },
     "metadata": {},
     "output_type": "display_data"
    }
   ],
   "source": [
    "plt.hist(diabetes['Age'], 10)\n",
    "plt.xlabel('Age (years)') # Make the meaning of the data clear\n",
    "plt.ylabel('Frequency') # Make the meaning of the data clear\n",
    "plt.title('Distribution of ages of female patients') # Make the meaning of the data clear"
   ]
  },
  {
   "cell_type": "markdown",
   "metadata": {},
   "source": [
    "**Discussion:** In many cases, one expects a normal distribution (sometimes referred to as a Gaussian distribution), when looking at a distribution of a variable from a whole population, e.g. height, IQ or body mass index. However, this is not the case above. Discuss with your lab partner why the above distribution might still be a good representation of the true distribution. Write down your answers:"
   ]
  },
  {
   "cell_type": "code",
   "execution_count": 5,
   "metadata": {
    "deletable": false,
    "editable": false,
    "tags": []
   },
   "outputs": [
    {
     "data": {
      "application/vnd.jupyter.widget-view+json": {
       "model_id": "53b5a51bd5d540c38f489b21bb4ed4b8",
       "version_major": 2,
       "version_minor": 0
      },
      "text/plain": [
       "Tab(children=(Accordion(selected_index=None), Accordion(children=(Output(layout=Layout(border='2px solid green…"
      ]
     },
     "metadata": {},
     "output_type": "display_data"
    }
   ],
   "source": [
    "# Run this cell to be offered with hints and solution\n",
    "show(week=4, question=0)"
   ]
  },
  {
   "cell_type": "markdown",
   "metadata": {},
   "source": [
    "Your answer:\n"
   ]
  },
  {
   "cell_type": "markdown",
   "metadata": {},
   "source": [
    "**Exercise 01:** \n",
    "\n",
    "- Fix the histogram from above to use the same ranges for the bins as [18, 25, 35, 45, 55, 65, 75].\n",
    "- Discuss with your lab partner whether the age distribution of the data set we use is a good approximation of the real distribution.\n"
   ]
  },
  {
   "cell_type": "code",
   "execution_count": 6,
   "metadata": {
    "deletable": false,
    "editable": false,
    "tags": []
   },
   "outputs": [
    {
     "data": {
      "application/vnd.jupyter.widget-view+json": {
       "model_id": "6636fb0c5588466f877f9c063508a7e8",
       "version_major": 2,
       "version_minor": 0
      },
      "text/plain": [
       "Tab(children=(Accordion(selected_index=None), Accordion(children=(Output(layout=Layout(border='2px solid green…"
      ]
     },
     "metadata": {},
     "output_type": "display_data"
    }
   ],
   "source": [
    "# Run this cell to be offered with hints and solution\n",
    "show(week=4, question=1)"
   ]
  },
  {
   "cell_type": "code",
   "execution_count": 7,
   "metadata": {},
   "outputs": [],
   "source": [
    "# Your code\n"
   ]
  },
  {
   "cell_type": "markdown",
   "metadata": {},
   "source": [
    "A well known fact is that people who are obese, defined as a body mass index (BMI) greater or equal to 35, are more likely to get diabetes. Let's double check that."
   ]
  },
  {
   "cell_type": "markdown",
   "metadata": {},
   "source": [
    "**Exercise 02:** \n",
    "\n",
    "a) Split the dataset into two sub sets `diabetes_true` and `diabetes_false`, one containing all the patients with diagnosed diabetes and the other one the rest.\n",
    "\n",
    "b) Create a figure with two subplots: (1) a histogram of the BMI distribution of `diabetes_true`; and (2) a histogram of the BMI distribution of `diabetes_false`. Play around with the number of bins; try to find a number that shows the distribution well. You might also want to compare plotting density (`density=True`) as opposed to frequency."
   ]
  },
  {
   "cell_type": "code",
   "execution_count": 8,
   "metadata": {
    "deletable": false,
    "editable": false,
    "tags": []
   },
   "outputs": [
    {
     "data": {
      "application/vnd.jupyter.widget-view+json": {
       "model_id": "72168901a1454c12831a97060ca8f01f",
       "version_major": 2,
       "version_minor": 0
      },
      "text/plain": [
       "Tab(children=(Accordion(children=(Output(layout=Layout(border='1px solid blue'), outputs=({'output_type': 'dis…"
      ]
     },
     "metadata": {},
     "output_type": "display_data"
    }
   ],
   "source": [
    "# Run this cell to be offered with hints and solution\n",
    "show(week=4, question=2)"
   ]
  },
  {
   "cell_type": "code",
   "execution_count": 9,
   "metadata": {},
   "outputs": [],
   "source": [
    "# Your code\n"
   ]
  },
  {
   "cell_type": "markdown",
   "metadata": {},
   "source": [
    "### A.2 Boxplots\n",
    "\n",
    "Another option to represent distributions is the **boxplot** `plt.boxplot(data)`. Boxplots (also known as box and whisker plots) are one-dimensional representations of a distribution in which the box extends from the lower (first) to the upper (fourth) quartile values of the data, while the line across the box represents the median. The 'whiskers', the lines extending from the box, can represent different things, as described on the [Wikipedia article on boxplots](https://en.wikipedia.org/wiki/Box_plot). By default, Matplotlib defines the end of the upper whisker as the value of the largest data point that lies within 1.5 times the interquartile range from the upper quartile, and the lower whisker as the value of the smallest data point that lies within 1.5 times the interquartile range from the lower quartile. Data points that lie outwith the whiskers are called outliers, and are represented by dots or circles. Since the whiskers can represent multiple statistics, ideally their meaning should be indicated in the plot caption."
   ]
  },
  {
   "cell_type": "markdown",
   "metadata": {},
   "source": [
    "**Exercise 03:**\n",
    "\n",
    "a) Compute the upper and lower quartile, the median, the interquartile range, the mean, and the standard deviation of `diabetes_true['BMI']`, without using statistics libraries.\n",
    "\n",
    "b) Compare your results with the statistics functions from the pandas library."
   ]
  },
  {
   "cell_type": "code",
   "execution_count": 10,
   "metadata": {
    "deletable": false,
    "editable": false,
    "tags": []
   },
   "outputs": [
    {
     "data": {
      "application/vnd.jupyter.widget-view+json": {
       "model_id": "186aa1c953564cfeba05d0807dbf53fa",
       "version_major": 2,
       "version_minor": 0
      },
      "text/plain": [
       "Tab(children=(Accordion(children=(Output(layout=Layout(border='1px solid blue'), outputs=({'output_type': 'dis…"
      ]
     },
     "metadata": {},
     "output_type": "display_data"
    }
   ],
   "source": [
    "# Run this cell to be offered with hints and solution\n",
    "show(week=4, question=3)"
   ]
  },
  {
   "cell_type": "code",
   "execution_count": 11,
   "metadata": {},
   "outputs": [],
   "source": [
    "# Your code\n"
   ]
  },
  {
   "cell_type": "markdown",
   "metadata": {},
   "source": [
    "Now that we have computed those values, let's redraw the BMI distribution from above using a boxplot."
   ]
  },
  {
   "cell_type": "code",
   "execution_count": 12,
   "metadata": {},
   "outputs": [
    {
     "ename": "NameError",
     "evalue": "name 'diabetes_true' is not defined",
     "output_type": "error",
     "traceback": [
      "\u001b[0;31m---------------------------------------------------------------------------\u001b[0m",
      "\u001b[0;31mNameError\u001b[0m                                 Traceback (most recent call last)",
      "Cell \u001b[0;32mIn[12], line 1\u001b[0m\n\u001b[0;32m----> 1\u001b[0m bmi \u001b[38;5;241m=\u001b[39m np\u001b[38;5;241m.\u001b[39marray([\u001b[43mdiabetes_true\u001b[49m[\u001b[38;5;124m'\u001b[39m\u001b[38;5;124mBMI\u001b[39m\u001b[38;5;124m'\u001b[39m], diabetes_false[\u001b[38;5;124m'\u001b[39m\u001b[38;5;124mBMI\u001b[39m\u001b[38;5;124m'\u001b[39m]], dtype\u001b[38;5;241m=\u001b[39m\u001b[38;5;28mobject\u001b[39m)\n\u001b[1;32m      2\u001b[0m plt\u001b[38;5;241m.\u001b[39mboxplot(bmi, labels\u001b[38;5;241m=\u001b[39m[\u001b[38;5;124m'\u001b[39m\u001b[38;5;124mPatients diagnosed with diabetes\u001b[39m\u001b[38;5;124m'\u001b[39m, \u001b[38;5;124m'\u001b[39m\u001b[38;5;124mPatients not diagnosed with diabetes\u001b[39m\u001b[38;5;124m'\u001b[39m])\n\u001b[1;32m      3\u001b[0m plt\u001b[38;5;241m.\u001b[39mylabel(\u001b[38;5;124m'\u001b[39m\u001b[38;5;124mBMI\u001b[39m\u001b[38;5;124m'\u001b[39m)\n",
      "\u001b[0;31mNameError\u001b[0m: name 'diabetes_true' is not defined"
     ]
    }
   ],
   "source": [
    "bmi = np.array([diabetes_true['BMI'], diabetes_false['BMI']], dtype=object)\n",
    "plt.boxplot(bmi, labels=['Patients diagnosed with diabetes', 'Patients not diagnosed with diabetes'])\n",
    "plt.ylabel('BMI')\n",
    "# Remark: the input is an array of arrays; each array returns one boxplot.\n",
    "plt.show()"
   ]
  },
  {
   "cell_type": "markdown",
   "metadata": {},
   "source": [
    "Note that in Exercise 02 we used two subplots to represent the different distributions. Boxplots allow us to represent both distributions in one plot.\n",
    "\n",
    "However, the names of the x labels overlap; let's fix this."
   ]
  },
  {
   "cell_type": "markdown",
   "metadata": {},
   "source": [
    "**Exercise 04:** \n",
    "Rotate the labels of the plot such that they don't overlap. Try to find a good rotation angle, such that the label names don't overlap and yet don't take up too much space below the figure."
   ]
  },
  {
   "cell_type": "code",
   "execution_count": null,
   "metadata": {
    "deletable": false,
    "editable": false,
    "tags": []
   },
   "outputs": [],
   "source": [
    "# Run this cell to be offered with hints and solution\n",
    "show(week=4, question=4)"
   ]
  },
  {
   "cell_type": "code",
   "execution_count": null,
   "metadata": {},
   "outputs": [],
   "source": [
    "# Your code\n"
   ]
  },
  {
   "cell_type": "markdown",
   "metadata": {},
   "source": [
    "Now that we have seen that higher BMI is associated with diabetes, let us consider how pregnancy affects a woman's likelihood of getting diabetes."
   ]
  },
  {
   "cell_type": "markdown",
   "metadata": {},
   "source": [
    "**Exercise 05:** \n",
    "\n",
    "a) Split the two datasets (`diabetes_true` and `diabetes_false`) into 12 subsets, dependent on how often the women were pregnant, i.e. 0 pregnancies, 1 pregnancy, ... 11 pregnancies, >11 pregnancies. Store all 12 subsets in one array (`bmi_pregnancy_diabetes_true`, `bmi_pregnancy_diabetes_false`).\n",
    "\n",
    "b) Plot a figure with two subplots, each showing 12 distributions of the BMI, dependent on how often the women were pregnant. One plot should be drawn based on the distributions from the set of women in `diabetes_true` and the other based on the distributions from the set of women in `diabetes_false`.\n",
    "\n",
    "c) Does pregnancy have an effect on the probability of having diabetes?"
   ]
  },
  {
   "cell_type": "code",
   "execution_count": 13,
   "metadata": {
    "deletable": false,
    "editable": false,
    "tags": []
   },
   "outputs": [
    {
     "data": {
      "application/vnd.jupyter.widget-view+json": {
       "model_id": "5b95ca3c2103453ea023fded3f81d728",
       "version_major": 2,
       "version_minor": 0
      },
      "text/plain": [
       "Tab(children=(Accordion(children=(Output(layout=Layout(border='1px solid blue'), outputs=({'output_type': 'dis…"
      ]
     },
     "metadata": {},
     "output_type": "display_data"
    }
   ],
   "source": [
    "# Run this cell to be offered with hints and solution\n",
    "show(week=4, question=5)"
   ]
  },
  {
   "cell_type": "code",
   "execution_count": null,
   "metadata": {},
   "outputs": [],
   "source": [
    "# Your code\n"
   ]
  },
  {
   "cell_type": "markdown",
   "metadata": {},
   "source": [
    "**Discussion:** Boxplots represent distributions in a very simplified manner. Discuss with your lab partner when and how a box plot could misrepresent information. What would be an example of a distribution that would be badly represented by a boxplot? Write down your answer:"
   ]
  },
  {
   "cell_type": "code",
   "execution_count": 16,
   "metadata": {
    "deletable": false,
    "editable": false,
    "tags": []
   },
   "outputs": [
    {
     "data": {
      "application/vnd.jupyter.widget-view+json": {
       "model_id": "293e3857ec8f4dc681d30f524e09bdae",
       "version_major": 2,
       "version_minor": 0
      },
      "text/plain": [
       "Tab(children=(Accordion(selected_index=None), Accordion(children=(Output(layout=Layout(border='2px solid green…"
      ]
     },
     "metadata": {},
     "output_type": "display_data"
    }
   ],
   "source": [
    "# Run this cell to be offered with hints and solution\n",
    "show(week=4, question=5.1)"
   ]
  },
  {
   "cell_type": "markdown",
   "metadata": {},
   "source": [
    "Your answer:\n"
   ]
  },
  {
   "cell_type": "markdown",
   "metadata": {},
   "source": [
    "## B Two-dimensional historgrams"
   ]
  },
  {
   "cell_type": "markdown",
   "metadata": {},
   "source": [
    "Above we have plotted different BMI distributions dependent on how many pregnancies the women had. Of course, the number of pregnancies in the population is also a distribution. The next step would be to combine those two dimensions into one histogram. A 2D histogram can be represented as a *heatmap*, plotted using the function `hist2d(x, y, bins)`. A heatmap comprises 2D-array of coloured rectangles, one for each combination of bins in the x and y axes. The colour of each rectangle represents the number of data points falling within the bin. Let's plot the joint distribution of BMI and pregnancies. "
   ]
  },
  {
   "cell_type": "code",
   "execution_count": null,
   "metadata": {},
   "outputs": [],
   "source": [
    "fig, (ax1, ax2) = plt.subplots(1, 2, figsize=(6, 5))\n",
    "\n",
    "# Set the bins to be the same for both histograms\n",
    "xbins = np.arange(-0.5, 15, 1)\n",
    "ybins = np.arange(-0.5, 70, 2)\n",
    "\n",
    "# Patients with diabetes\n",
    "# h1 = histogram 1. we need to save the output to add colorbar later on. \n",
    "# We could also plot without colorbar.\n",
    "h1 = ax1.hist2d(diabetes_true[diabetes_true['Pregnancies']<12]['Pregnancies'], # x value of data point\n",
    "                diabetes_true[diabetes_true['Pregnancies']<12]['BMI'], # y value of data point\n",
    "                [xbins, ybins], # number of bins [x, y]\n",
    "                density=True\n",
    "              )\n",
    "ax1.set_title('Diagnosed with diabetes')\n",
    "ax1.set_ylabel('BMI')\n",
    "ax1.set_xlabel('Number of pregnancies')\n",
    "# Let's add a legend to understand what the colour means\n",
    "fig.colorbar(h1[3], ax=ax1, location='bottom')\n",
    "\n",
    "# Patients without diabetes\n",
    "h2 = ax2.hist2d(diabetes_false[diabetes_false['Pregnancies']<12]['Pregnancies'],\n",
    "               diabetes_false[diabetes_false['Pregnancies']<12]['BMI'],\n",
    "               [xbins, ybins],\n",
    "               density=True\n",
    "              )\n",
    "ax2.set_title('Not diagnosed with diabetes')\n",
    "#ax2.set_ylabel('BMI')\n",
    "ax2.set_xlabel('Number of pregnancies')\n",
    "fig.colorbar(h2[3], ax=ax2, location='bottom')"
   ]
  },
  {
   "cell_type": "markdown",
   "metadata": {},
   "source": [
    "## C Gridspaces"
   ]
  },
  {
   "cell_type": "markdown",
   "metadata": {},
   "source": [
    "In the last lab, we discussed how to create a figure with several subplots. However, all subplots had the same size. How can we recreate the figure below?\n",
    "![title](https://matplotlib.org/3.1.1/_images/sphx_glr_gridspec_003.png)\n",
    "From the [matplotlib documentation](https://matplotlib.org/3.1.1/_images/sphx_glr_gridspec_003.png).\n",
    "\n",
    "When we use `.subplots(nrows,mcols, figsize)` Matplotlib actually creates a figure with size `figsize`, and then overlays an equally spaced grid with n rows and m columns. We can use that grid and spread an axes over several columns and rows."
   ]
  },
  {
   "cell_type": "code",
   "execution_count": null,
   "metadata": {},
   "outputs": [],
   "source": [
    "multiplot_fig = plt.figure(constrained_layout=True)\n",
    "grid = multiplot_fig.add_gridspec(3, 3)\n",
    "ax1 = multiplot_fig.add_subplot(grid[0, :])\n",
    "ax1.set_title('grid[0, :]')\n",
    "ax2 = multiplot_fig.add_subplot(grid[1, :-1])\n",
    "ax2.set_title('grid[1, :-1]')\n",
    "ax3 = multiplot_fig.add_subplot(grid[1:, -1])\n",
    "ax3.set_title('grid[1:, -1]')\n",
    "ax4 = multiplot_fig.add_subplot(grid[-1, 0])\n",
    "ax4.set_title('grid[-1, 0]')\n",
    "ax5 = multiplot_fig.add_subplot(grid[-1, -2])\n",
    "ax5.set_title('grid[-1, -2]')"
   ]
  },
  {
   "cell_type": "markdown",
   "metadata": {},
   "source": [
    "Let's use this to our advantage. To illustrate better the two dimensional histogram above, let's add a figure on the side and below, representing the distribution of BMI and pregnancies independent of other data, i.e. the projection of the 2D plot onto one dimension."
   ]
  },
  {
   "cell_type": "code",
   "execution_count": null,
   "metadata": {},
   "outputs": [],
   "source": [
    "multiplot_fig = plt.figure(constrained_layout=True, figsize = (5,5))\n",
    "grid = multiplot_fig.add_gridspec(3, 3)\n",
    "ax1 = multiplot_fig.add_subplot(grid[:-1, :-1])\n",
    "ax2 = multiplot_fig.add_subplot(grid[2, :-1])\n",
    "ax3 = multiplot_fig.add_subplot(grid[:-1, 2])\n",
    "h1 = ax1.hist2d(diabetes_true[diabetes_true['Pregnancies']<12]['Pregnancies'], # x vales of data points\n",
    "                diabetes_true[diabetes_true['Pregnancies']<12]['BMI'], # y values of data points\n",
    "                [12,50], # Number of bins in x and y directions\n",
    "                density=True # Normalize data. Try with density = False and compare output\n",
    "                )\n",
    "ax1.set_ylabel('BMI')\n",
    "ax1.set_xlabel('Number of pregnancies')\n",
    "ax2.hist(diabetes_true[diabetes_true['Pregnancies']<12]['Pregnancies'], 12)\n",
    "ax2.set_xlim([0, 11])\n",
    "ax3.hist(diabetes_true[diabetes_true['Pregnancies']<12]['BMI'], 50, orientation=\"horizontal\", range=(0, 70))\n",
    "ax3.set_ylim([0, 67])"
   ]
  },
  {
   "cell_type": "markdown",
   "metadata": {},
   "source": [
    "Great! You have learned enough in Matplotlib to draw many plots you will need in data visualization and, by extension, analytics. More importantly, you should have enough solid basic knowledge of Matplotlib to be able to  understand quickly the documentation or StackOverflow answers. Remember, if you copy+paste a solution from StackOverflow, you should always try to understand each line. Firstly, if you understand each line well you will remember the solution better and won't need to look it up next time. Secondly, anyone can post answers on StackOverflow, and often the answers proposed are not the cleanest option. Knowing the underlying basics of Matplotlib will help you to clean up messy answers and still use those in your code.\n",
    "\n",
    "The last thing we will discuss is Seaborn, a different plotting library based on Matplotlib.\n",
    "\n",
    "## D Seaborn\n",
    "\n",
    "[Seaborn](https://seaborn.pydata.org/) is a plotting library that can produce nicer looking plots than Matplotlib with less code. We will look at a few basic options to make a Matplotlib plot look better, and a few extra plots that cannot be done with Matplotlib.\n",
    "\n",
    "The documentation is quite extensive and the official website contains many [tutorials](https://seaborn.pydata.org/tutorial.html). In addition, if you are looking for example plots as inspiration this [website](https://seaborn.pydata.org/examples/index.html) contains many examples.\n",
    "\n",
    "### D.1 Adding flair to the plots with less code\n",
    "You can create all the types of plot encountered so far with Seaborn with much less effort, and it creates beautiful plots almost automatically. \n",
    "\n",
    "Seaborn can draw good looking histograms, automatically choosing a good number of bins:"
   ]
  },
  {
   "cell_type": "code",
   "execution_count": null,
   "metadata": {},
   "outputs": [],
   "source": [
    "ax = sns.displot(diabetes_true['BMI'])"
   ]
  },
  {
   "cell_type": "markdown",
   "metadata": {},
   "source": [
    "We can also add extra information to the plots. In the case of histograms, we can convert the histogram into a  density plot by specifying `kind='kde'`. (KDE stands for [kernel density estimation](https://en.wikipedia.org/wiki/Kernel_density_estimation) and gives a smoothed version of the plot.) In addition, we can add small lines at the bottom indicating each observation (`rug=True`). To see more options check the [documentation](https://seaborn.pydata.org/generated/seaborn.displot.html). "
   ]
  },
  {
   "cell_type": "code",
   "execution_count": null,
   "metadata": {},
   "outputs": [],
   "source": [
    "sns.displot(diabetes_true['BMI'], kind='kde', rug=True)"
   ]
  },
  {
   "cell_type": "markdown",
   "metadata": {},
   "source": [
    "Note that seaborn displots are square by default, since they are designed to be displayed in pairplots (see later). To make a displot of a particular size, we have to set the `height` in inches and set the width via the `aspect`: `width=aspect*height`."
   ]
  },
  {
   "cell_type": "code",
   "execution_count": null,
   "metadata": {},
   "outputs": [],
   "source": [
    "sns.displot(diabetes_true['BMI'], kind='kde', rug=True, height=4, aspect=6.0/4.0) # Gives a 6x4 plot"
   ]
  },
  {
   "cell_type": "markdown",
   "metadata": {},
   "source": [
    "We can also draw the boxplots from Exercise 5 can be plotted the same way as in Matplotlib:"
   ]
  },
  {
   "cell_type": "code",
   "execution_count": null,
   "metadata": {},
   "outputs": [],
   "source": [
    "sns.boxplot(data = bmi_pregnancy_diabetes_true)"
   ]
  },
  {
   "cell_type": "markdown",
   "metadata": {},
   "source": [
    "Apart from the colours, and the style of the markers, there doesn't seem to be much difference to Matplotlib. We still need to add 2 lines of code to label the x and y axis. \n",
    "\n",
    "However, we can do better with this, and avoid the coding you had to do in Exercise 5. At the beginning of this lab, the data was is in DataFrame `diabetes`, where each row is one record - this is the __data matrix__ format, also known as [tidy data](https://en.wikipedia.org/wiki/Tidy_data) or sometimes __long form__. In order to use Matplotlib, we had to transform it into a list of arrays. Seaborn lets us use the data matrix directly, by specifying the `x` and `y` variables and the `data` matrix.  "
   ]
  },
  {
   "cell_type": "code",
   "execution_count": null,
   "metadata": {},
   "outputs": [],
   "source": [
    "diabetes_capped = diabetes.copy() # We make a copy just to avoid changing our data set\n",
    "diabetes_capped = diabetes_capped[diabetes_capped['Pregnancies'] <= 11] # We cap the data set to only include the patients with maximum 11 pregnancies to have the same data as in the previous exercises\n",
    "sns.boxplot(x='Pregnancies', y='BMI', data=diabetes_capped[diabetes_capped['Outcome'] == 1]) # Seaborn only needs one line in contrast to matplotlib"
   ]
  },
  {
   "cell_type": "markdown",
   "metadata": {},
   "source": [
    "We've now saved many lines of code _and_ got the axes labeled for free _and_ avoided any potential errors with mislabeling the axes or during transformation from matrix form to arrays."
   ]
  },
  {
   "cell_type": "markdown",
   "metadata": {},
   "source": [
    "**Remark** Seaborn is known for having nicer looking colours, and [makes it easier to choose colours that are distinguishable by people with colourblindness](https://seaborn.pydata.org/tutorial/color_palettes.html). However, you should recall (according to the principle of \"Focus on the content\") that adding more colour does not always improve your plot. For example, in the plot above: what do the colours mean? If the different colours don't have any meaning they aren't helpful and should be removed.\n",
    "\n",
    "Of course, we can fix this problem in Seaborn as well:"
   ]
  },
  {
   "cell_type": "code",
   "execution_count": null,
   "metadata": {},
   "outputs": [],
   "source": [
    "sns.boxplot(data=bmi_pregnancy_diabetes_true, color=\"navajowhite\") # Navajowhite? Seaborn has a huge amount of colors to choose from\n",
    "plt.show()"
   ]
  },
  {
   "cell_type": "markdown",
   "metadata": {},
   "source": [
    "The colour options are endless in Seaborn. Here is a helpful [guide](https://medium.com/@morganjonesartist/colour-guide-to-seaborn-palettes-da849406d44f). But though Seaborn is known for its colour, remember that of course it isn't everything, as we have seen in the histogram plot for example."
   ]
  },
  {
   "cell_type": "markdown",
   "metadata": {},
   "source": [
    "That said, we can use colour to good effect by creating a plot in which we map the Outcome (Diabetes or no diabetes) onto the hue. We now how a plot that aids visual comparison, in line with the principle of \"Show the data\"."
   ]
  },
  {
   "cell_type": "code",
   "execution_count": null,
   "metadata": {},
   "outputs": [],
   "source": [
    "sns.boxplot(x='Pregnancies', y='BMI', hue='Outcome', data=diabetes_capped)\n",
    "plt.title('Distribution of BMI by number of pregnancies')\n",
    "plt.show()"
   ]
  },
  {
   "cell_type": "markdown",
   "metadata": {},
   "source": [
    "### D.2 Extra plots\n",
    "\n",
    "Seaborn does not just render more beautiful, labeled plots with less code, it also contains plots that are not present in Matplotlib. For example, above we have asked you to discuss what the problems might be with boxplots. You might have remarked that they strongly simplify distributions and do not represent  bimodal distributions well. Violin plots can show in simple plots the distribution, while also preserving its form."
   ]
  },
  {
   "cell_type": "code",
   "execution_count": null,
   "metadata": {},
   "outputs": [],
   "source": [
    "plt.figure(dpi=150, figsize=(6,3))\n",
    "sns.violinplot(x='Pregnancies', y='BMI', data=diabetes_capped[diabetes_capped['Outcome'] == 1],\n",
    "               color=\"navajowhite\")"
   ]
  },
  {
   "cell_type": "code",
   "execution_count": null,
   "metadata": {},
   "outputs": [],
   "source": [
    "plt.figure(dpi=150, figsize=(6, 2))\n",
    "sns.violinplot(x='Pregnancies', y='BMI', hue='Outcome', data=diabetes_capped, width=0.7, linewidth=0.7)"
   ]
  },
  {
   "cell_type": "markdown",
   "metadata": {},
   "source": [
    "**Discussion:** Discuss with your lab partner what the advantages and disadvantages of boxplots and violin plots are."
   ]
  },
  {
   "cell_type": "code",
   "execution_count": 17,
   "metadata": {
    "deletable": false,
    "editable": false,
    "tags": []
   },
   "outputs": [
    {
     "data": {
      "application/vnd.jupyter.widget-view+json": {
       "model_id": "805c3f05ef044d59adce8870a04997db",
       "version_major": 2,
       "version_minor": 0
      },
      "text/plain": [
       "Tab(children=(Accordion(selected_index=None), Accordion(children=(Output(layout=Layout(border='2px solid green…"
      ]
     },
     "metadata": {},
     "output_type": "display_data"
    }
   ],
   "source": [
    "# Run this cell to be offered with hints and solution\n",
    "show(week=4, question=6)"
   ]
  },
  {
   "cell_type": "markdown",
   "metadata": {},
   "source": [
    "Your answer:\n"
   ]
  },
  {
   "cell_type": "markdown",
   "metadata": {},
   "source": [
    "The last plot we are going to discuss in this lab are **pairplots**. We have already seen them in the second lab to show the correlation between different *pairs* of dimensions. This is very helpful when analysing a multidimensional set."
   ]
  },
  {
   "cell_type": "code",
   "execution_count": null,
   "metadata": {},
   "outputs": [],
   "source": [
    "sns.pairplot(diabetes, hue='Outcome')"
   ]
  },
  {
   "cell_type": "markdown",
   "metadata": {},
   "source": [
    "**Discussion:**\n",
    "\n",
    "Discuss with your lab partner what you can see in the plot:\n",
    "\n",
    "- Is there data, that should be cleaned before further analyzing it?\n",
    "- Are there certain features that, by themselves, already predict whether someone is more likely to have diabetes?\n",
    "- Can you make out clear dependencies between dimensions?\n",
    "\n",
    "You have learned a lot about plotting and how plots should be presented. \n",
    "\n",
    "- How would you evaluate the plot above in terms of the visualisation principles?\n",
    "- Is the plot above one that could be used in a presentation?\n",
    "- How could we improve it?\n",
    "\n",
    "In this lab, we have seen how to visualize distributions in data sets, and especially pairplots can tell us a lot about our data, before we process it. In the labs in week 7 and 8, we will come back to this data set and continue exploring it. Hopefully, we can extract features that allow us to predict patients susceptible to having diabetes, in order to answer fully our research question."
   ]
  },
  {
   "cell_type": "markdown",
   "metadata": {},
   "source": [
    "### Remarks regarding Matplotlib vs Seaborn\n",
    "\n",
    "Whether you use Matplotlib or Seaborn in the course work is entirely up to you. The importance of Matplotlib lies in the fact that most researchers use Matplotlib and Seaborn is built on top of it. Now you have the tools at your hand to use Matplotlib, you know what to search for in the documentation and on stackoverflow when you are stuck with a plotting problem, you can easily understand the answers people post on stackoverflow. On the other hand, understanding the inner-workings of Matplotlib will help you to also easily understand the Seaborn documentation. It is up to you to spend some extra time playing around with Seaborn. The next exercise is optional, but we highly recommend that you do it.\n",
    "\n",
    "**Optional Exercise:**\n",
    "\n",
    "Use Seaborn to recreate the plots you have plotted above, or in the previous lab.\n",
    "\n",
    "Here is the documentation for the different plots:\n",
    "\n",
    "- [Line plots](https://seaborn.pydata.org/generated/seaborn.lineplot.html)\n",
    "- [Bar plots](https://seaborn.pydata.org/generated/seaborn.barplot.html)\n",
    "- [Scatter plots](https://seaborn.pydata.org/generated/seaborn.scatterplot.html)\n",
    "- [Histograms](https://seaborn.pydata.org/generated/seaborn.distplot.html)\n",
    "- [Box plots](https://seaborn.pydata.org/generated/seaborn.boxplot.html)\n",
    "- [Heatmaps](https://seaborn.pydata.org/generated/seaborn.heatmap.html)"
   ]
  },
  {
   "cell_type": "code",
   "execution_count": null,
   "metadata": {},
   "outputs": [],
   "source": [
    "# Your code"
   ]
  }
 ],
 "metadata": {
  "anaconda-cloud": {},
  "kernelspec": {
   "display_name": "Python 3 (ipykernel)",
   "language": "python",
   "name": "python3"
  },
  "language_info": {
   "codemirror_mode": {
    "name": "ipython",
    "version": 3
   },
   "file_extension": ".py",
   "mimetype": "text/x-python",
   "name": "python",
   "nbconvert_exporter": "python",
   "pygments_lexer": "ipython3",
   "version": "3.9.13"
  }
 },
 "nbformat": 4,
 "nbformat_minor": 4
}
